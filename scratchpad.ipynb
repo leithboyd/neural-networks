{
 "cells": [
  {
   "cell_type": "code",
   "execution_count": 1,
   "metadata": {},
   "outputs": [],
   "source": [
    "import os\n",
    "os.add_dll_directory(\"C:/Program Files/NVIDIA GPU Computing Toolkit/CUDA/v11.4/bin\")\n",
    "\n",
    "import numpy as np\n",
    "import tensorflow as tf"
   ]
  },
  {
   "cell_type": "code",
   "execution_count": 24,
   "metadata": {},
   "outputs": [
    {
     "name": "stdout",
     "output_type": "stream",
     "text": [
      "6.0\n",
      "0.5\n"
     ]
    }
   ],
   "source": [
    "x = tf.Variable(3.0, dtype=tf.float32, trainable=True)\n",
    "\n",
    "with tf.GradientTape(persistent=True) as tape:\n",
    "    y = x**2\n",
    "    z = y/2.0\n",
    "\n",
    "\n",
    "dy_dx = tape.gradient(y, x)\n",
    "print(dy_dx.numpy())\n",
    "\n",
    "dz_dy = tape.gradient(z, y)\n",
    "print(dz_dy.numpy())"
   ]
  },
  {
   "cell_type": "code",
   "execution_count": 68,
   "metadata": {},
   "outputs": [
    {
     "name": "stdout",
     "output_type": "stream",
     "text": [
      "[[-100.24495]\n",
      " [-146.55495]\n",
      " [ -44.54383]]\n",
      "[-19.342522]\n"
     ]
    }
   ],
   "source": [
    "tf.random.set_seed(1.0)\n",
    "\n",
    "w = tf.Variable(tf.random.normal((3, 1), dtype=tf.float32), name='w')\n",
    "b = tf.Variable(tf.zeros(1, dtype=tf.float32), name='b')\n",
    "x = tf.constant([[1., 2., 3.], [7., 10., 2.]], dtype=tf.float32)\n",
    "\n",
    "y = tf.reduce_sum(x, axis=1, keepdims=True) + 3.0\n",
    "\n",
    "with tf.GradientTape() as tape:\n",
    "    y_hat = x @ w + b\n",
    "    loss = tf.reduce_mean((y_hat - y)**2)\n",
    "\n",
    "\n",
    "[ld_dw, dl_db] = tape.gradient(loss, [w, b])\n",
    "\n",
    "print(ld_dw.numpy())\n",
    "print(dl_db.numpy())"
   ]
  }
 ],
 "metadata": {
  "kernelspec": {
   "display_name": "deep_learning_env",
   "language": "python",
   "name": "deep_learning_env"
  },
  "orig_nbformat": 4
 },
 "nbformat": 4,
 "nbformat_minor": 2
}
