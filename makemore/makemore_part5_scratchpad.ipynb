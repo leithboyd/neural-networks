{
 "cells": [
  {
   "cell_type": "code",
   "execution_count": 1,
   "metadata": {},
   "outputs": [],
   "source": [
    "import tensorflow as tf\n",
    "import numpy as np\n"
   ]
  },
  {
   "cell_type": "code",
   "execution_count": 2,
   "metadata": {},
   "outputs": [
    {
     "data": {
      "text/plain": [
       "<tf.Tensor: shape=(4, 2), dtype=float32, numpy=\n",
       "array([[7., 4.],\n",
       "       [7., 6.],\n",
       "       [2., 8.],\n",
       "       [1., 3.]], dtype=float32)>"
      ]
     },
     "execution_count": 2,
     "metadata": {},
     "output_type": "execute_result"
    }
   ],
   "source": [
    "time_steps, channels = 4, 2\n",
    "\n",
    "data = tf.math.round(tf.random.uniform((time_steps, channels), minval=0, maxval=9))\n",
    "data"
   ]
  },
  {
   "cell_type": "code",
   "execution_count": 3,
   "metadata": {},
   "outputs": [
    {
     "data": {
      "text/plain": [
       "<tf.Tensor: shape=(4, 4), dtype=float32, numpy=\n",
       "array([[1., 0., 0., 0.],\n",
       "       [1., 1., 0., 0.],\n",
       "       [1., 1., 1., 0.],\n",
       "       [1., 1., 1., 1.]], dtype=float32)>"
      ]
     },
     "execution_count": 3,
     "metadata": {},
     "output_type": "execute_result"
    }
   ],
   "source": [
    "lower_diag = tf.linalg.band_part(tf.ones((time_steps, time_steps)), -1, 0)\n",
    "lower_diag"
   ]
  },
  {
   "cell_type": "code",
   "execution_count": 4,
   "metadata": {},
   "outputs": [
    {
     "data": {
      "text/plain": [
       "<tf.Tensor: shape=(4, 4), dtype=float32, numpy=\n",
       "array([[1.        , 0.        , 0.        , 0.        ],\n",
       "       [0.5       , 0.5       , 0.        , 0.        ],\n",
       "       [0.33333334, 0.33333334, 0.33333334, 0.        ],\n",
       "       [0.25      , 0.25      , 0.25      , 0.25      ]], dtype=float32)>"
      ]
     },
     "execution_count": 4,
     "metadata": {},
     "output_type": "execute_result"
    }
   ],
   "source": [
    "lower_diag / tf.reduce_sum(lower_diag, axis=1, keepdims=True)\n"
   ]
  },
  {
   "cell_type": "code",
   "execution_count": 5,
   "metadata": {},
   "outputs": [
    {
     "data": {
      "text/plain": [
       "<tf.Tensor: shape=(4, 1), dtype=float32, numpy=\n",
       "array([[1.],\n",
       "       [2.],\n",
       "       [3.],\n",
       "       [4.]], dtype=float32)>"
      ]
     },
     "execution_count": 5,
     "metadata": {},
     "output_type": "execute_result"
    }
   ],
   "source": [
    "tf.reduce_sum(lower_diag, axis=1, keepdims=True)"
   ]
  },
  {
   "cell_type": "code",
   "execution_count": 6,
   "metadata": {},
   "outputs": [
    {
     "data": {
      "text/plain": [
       "<tf.Tensor: shape=(4, 4), dtype=float32, numpy=\n",
       "array([[1.        , 0.        , 0.        , 0.        ],\n",
       "       [0.5       , 0.5       , 0.        , 0.        ],\n",
       "       [0.33333334, 0.33333334, 0.33333334, 0.        ],\n",
       "       [0.25      , 0.25      , 0.25      , 0.25      ]], dtype=float32)>"
      ]
     },
     "execution_count": 6,
     "metadata": {},
     "output_type": "execute_result"
    }
   ],
   "source": [
    "tf.keras.activations.softmax(tf.where(lower_diag == 1, lower_diag, float('-inf')), axis=1)"
   ]
  },
  {
   "cell_type": "code",
   "execution_count": 7,
   "metadata": {},
   "outputs": [
    {
     "data": {
      "text/plain": [
       "<tf.Tensor: shape=(2, 3, 4), dtype=int32, numpy=\n",
       "array([[[1, 1, 1, 1],\n",
       "        [2, 2, 2, 2],\n",
       "        [3, 3, 3, 3]],\n",
       "\n",
       "       [[4, 4, 4, 4],\n",
       "        [5, 5, 5, 5],\n",
       "        [6, 6, 6, 6]]])>"
      ]
     },
     "execution_count": 7,
     "metadata": {},
     "output_type": "execute_result"
    }
   ],
   "source": [
    "tf.convert_to_tensor(\n",
    "    [\n",
    "        [\n",
    "            [1, 1, 1, 1],\n",
    "            [2, 2, 2, 2],\n",
    "            [3, 3, 3, 3]\n",
    "        ],\n",
    "        [\n",
    "            [4, 4, 4, 4],\n",
    "            [5, 5, 5, 5],\n",
    "            [6, 6, 6, 6]\n",
    "        ]\n",
    "    ]\n",
    ")"
   ]
  },
  {
   "cell_type": "code",
   "execution_count": 16,
   "metadata": {},
   "outputs": [],
   "source": [
    "def head_mul(data, transform):\n",
    "    '''\n",
    "    head = (batch, F)\n",
    "    transform = (heads, HF, F)\n",
    "    result = (batch, heads, HF)\n",
    "    '''\n",
    "    assert (tf.rank(data) == 2)\n",
    "    assert (tf.rank(transform) == 3)\n",
    "    assert (data.shape[1] == transform.shape[2])\n",
    "\n",
    "    B, F = data.shape\n",
    "    return tf.squeeze(transform @ tf.reshape(data, (B, 1, F, 1)))\n",
    "\n",
    "\n",
    "def head_mul_simple(data, transform):\n",
    "    assert (tf.rank(data) == 2)\n",
    "    assert (tf.rank(transform) == 3)\n",
    "    assert (data.shape[1] == transform.shape[2])\n",
    "\n",
    "    B, F = data.shape\n",
    "    H, HF, _ = transform.shape\n",
    "\n",
    "    result = np.zeros((B, H, HF))\n",
    "\n",
    "    for b in range(B):\n",
    "        for h in range(H):\n",
    "            for hf in range(HF):\n",
    "                result[b, h, hf] = tf.tensordot(data[b, :],  transform[h, hf, :], 1).numpy()\n",
    "\n",
    "    return tf.convert_to_tensor(result, dtype=tf.float32)\n",
    "\n"
   ]
  },
  {
   "cell_type": "code",
   "execution_count": 19,
   "metadata": {},
   "outputs": [
    {
     "data": {
      "text/plain": [
       "<tf.Tensor: shape=(5, 3, 2), dtype=float32, numpy=\n",
       "array([[[-1.3783665 , -0.24565655],\n",
       "        [-2.4135888 ,  2.6722853 ],\n",
       "        [ 3.0694003 ,  0.18428665]],\n",
       "\n",
       "       [[-0.8693649 , -3.979703  ],\n",
       "        [ 0.48059523,  2.8107116 ],\n",
       "        [-0.10500497, -0.44696766]],\n",
       "\n",
       "       [[ 0.22860071, -1.7451897 ],\n",
       "        [-4.4174647 , -1.5649848 ],\n",
       "        [ 2.5846443 , -0.6335654 ]],\n",
       "\n",
       "       [[-1.823693  ,  0.27538848],\n",
       "        [ 0.6374525 ,  3.9810205 ],\n",
       "        [ 1.1162341 ,  0.6864896 ]],\n",
       "\n",
       "       [[-0.26496747, -2.0837076 ],\n",
       "        [ 0.04458502,  0.51541185],\n",
       "        [-0.37498823, -0.21276651]]], dtype=float32)>"
      ]
     },
     "execution_count": 19,
     "metadata": {},
     "output_type": "execute_result"
    }
   ],
   "source": [
    "batch, features = 5, 4\n",
    "heads, head_features = 3, 2\n",
    "\n",
    "data = tf.random.normal((batch, features))\n",
    "transform = tf.random.normal((heads, head_features, features))\n",
    "\n",
    "result = head_mul(data, transform)\n",
    "tf.debugging.assert_near(result, head_mul_simple(data, transform))\n",
    "\n",
    "result"
   ]
  }
 ],
 "metadata": {
  "kernelspec": {
   "display_name": "tf-gpu",
   "language": "python",
   "name": "python3"
  },
  "language_info": {
   "codemirror_mode": {
    "name": "ipython",
    "version": 3
   },
   "file_extension": ".py",
   "mimetype": "text/x-python",
   "name": "python",
   "nbconvert_exporter": "python",
   "pygments_lexer": "ipython3",
   "version": "3.10.8"
  },
  "orig_nbformat": 4
 },
 "nbformat": 4,
 "nbformat_minor": 2
}
