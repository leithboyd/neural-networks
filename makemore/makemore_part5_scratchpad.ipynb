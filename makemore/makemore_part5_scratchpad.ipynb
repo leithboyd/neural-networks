{
 "cells": [
  {
   "cell_type": "code",
   "execution_count": 1,
   "metadata": {},
   "outputs": [],
   "source": [
    "import tensorflow as tf\n",
    "import numpy as np\n"
   ]
  },
  {
   "cell_type": "code",
   "execution_count": 2,
   "metadata": {},
   "outputs": [
    {
     "data": {
      "text/plain": [
       "<tf.Tensor: shape=(4, 2), dtype=float32, numpy=\n",
       "array([[4., 1.],\n",
       "       [1., 3.],\n",
       "       [5., 1.],\n",
       "       [4., 8.]], dtype=float32)>"
      ]
     },
     "execution_count": 2,
     "metadata": {},
     "output_type": "execute_result"
    }
   ],
   "source": [
    "time_steps, channels = 4, 2\n",
    "\n",
    "data = tf.math.round(tf.random.uniform((time_steps, channels), minval=0, maxval=9))\n",
    "data"
   ]
  },
  {
   "cell_type": "code",
   "execution_count": 3,
   "metadata": {},
   "outputs": [
    {
     "data": {
      "text/plain": [
       "<tf.Tensor: shape=(4, 4), dtype=float32, numpy=\n",
       "array([[1., 0., 0., 0.],\n",
       "       [1., 1., 0., 0.],\n",
       "       [1., 1., 1., 0.],\n",
       "       [1., 1., 1., 1.]], dtype=float32)>"
      ]
     },
     "execution_count": 3,
     "metadata": {},
     "output_type": "execute_result"
    }
   ],
   "source": [
    "lower_diag = tf.linalg.band_part(tf.ones((time_steps, time_steps)), -1, 0)\n",
    "lower_diag"
   ]
  },
  {
   "cell_type": "code",
   "execution_count": 4,
   "metadata": {},
   "outputs": [
    {
     "data": {
      "text/plain": [
       "<tf.Tensor: shape=(4, 4), dtype=float32, numpy=\n",
       "array([[1.        , 0.        , 0.        , 0.        ],\n",
       "       [0.5       , 0.5       , 0.        , 0.        ],\n",
       "       [0.33333334, 0.33333334, 0.33333334, 0.        ],\n",
       "       [0.25      , 0.25      , 0.25      , 0.25      ]], dtype=float32)>"
      ]
     },
     "execution_count": 4,
     "metadata": {},
     "output_type": "execute_result"
    }
   ],
   "source": [
    "lower_diag / tf.reduce_sum(lower_diag, axis=1, keepdims=True)\n"
   ]
  },
  {
   "cell_type": "code",
   "execution_count": 5,
   "metadata": {},
   "outputs": [
    {
     "data": {
      "text/plain": [
       "<tf.Tensor: shape=(4, 1), dtype=float32, numpy=\n",
       "array([[1.],\n",
       "       [2.],\n",
       "       [3.],\n",
       "       [4.]], dtype=float32)>"
      ]
     },
     "execution_count": 5,
     "metadata": {},
     "output_type": "execute_result"
    }
   ],
   "source": [
    "tf.reduce_sum(lower_diag, axis=1, keepdims=True)"
   ]
  },
  {
   "cell_type": "code",
   "execution_count": 6,
   "metadata": {},
   "outputs": [
    {
     "data": {
      "text/plain": [
       "<tf.Tensor: shape=(4, 4), dtype=float32, numpy=\n",
       "array([[1.        , 0.        , 0.        , 0.        ],\n",
       "       [0.5       , 0.5       , 0.        , 0.        ],\n",
       "       [0.33333334, 0.33333334, 0.33333334, 0.        ],\n",
       "       [0.25      , 0.25      , 0.25      , 0.25      ]], dtype=float32)>"
      ]
     },
     "execution_count": 6,
     "metadata": {},
     "output_type": "execute_result"
    }
   ],
   "source": [
    "tf.keras.activations.softmax(tf.where(lower_diag == 1, lower_diag, float('-inf')), axis=1)"
   ]
  },
  {
   "cell_type": "code",
   "execution_count": 7,
   "metadata": {},
   "outputs": [
    {
     "data": {
      "text/plain": [
       "<tf.Tensor: shape=(2, 3, 4), dtype=int32, numpy=\n",
       "array([[[1, 1, 1, 1],\n",
       "        [2, 2, 2, 2],\n",
       "        [3, 3, 3, 3]],\n",
       "\n",
       "       [[4, 4, 4, 4],\n",
       "        [5, 5, 5, 5],\n",
       "        [6, 6, 6, 6]]])>"
      ]
     },
     "execution_count": 7,
     "metadata": {},
     "output_type": "execute_result"
    }
   ],
   "source": [
    "tf.convert_to_tensor(\n",
    "    [\n",
    "        [\n",
    "            [1, 1, 1, 1],\n",
    "            [2, 2, 2, 2],\n",
    "            [3, 3, 3, 3]\n",
    "        ],\n",
    "        [\n",
    "            [4, 4, 4, 4],\n",
    "            [5, 5, 5, 5],\n",
    "            [6, 6, 6, 6]\n",
    "        ]\n",
    "    ]\n",
    ")"
   ]
  },
  {
   "cell_type": "code",
   "execution_count": 8,
   "metadata": {},
   "outputs": [],
   "source": [
    "def head_mul(data, transform):\n",
    "    '''\n",
    "    data: batch, F, FD\n",
    "    transform: heads, FD, HFD\n",
    "    result: (batch, heads, F, HFD)\n",
    "\n",
    "    '''\n",
    "    assert (tf.rank(data) == 3)\n",
    "    assert (tf.rank(transform) == 3)\n",
    "    assert (data.shape[2] == transform.shape[1])\n",
    "\n",
    "    return tf.expand_dims(data, 1) @ transform\n",
    "\n",
    "\n",
    "def head_mul_simple(data, transform):\n",
    "    '''\n",
    "    data: batch, F, FD\n",
    "    transform: heads, FD, HFD\n",
    "    result: (batch, heads, F, HFD)\n",
    "    '''\n",
    "    assert (tf.rank(data) == 3)\n",
    "    assert (tf.rank(transform) == 3)\n",
    "    assert (data.shape[2] == transform.shape[1])\n",
    "\n",
    "    B, F, FD = data.shape\n",
    "    H, _, HFD = transform.shape\n",
    "\n",
    "    result = np.zeros((B, H, F, HFD))\n",
    "\n",
    "    for b in range(B):\n",
    "        for h in range(H):\n",
    "            for f in range(F):\n",
    "                for fd in range(HFD):\n",
    "                    result[b, h, f, fd] = tf.tensordot(data[b, f, :],  transform[h, :, fd], 1).numpy()\n",
    "\n",
    "    return tf.convert_to_tensor(result, dtype=tf.float32)\n"
   ]
  },
  {
   "cell_type": "code",
   "execution_count": 9,
   "metadata": {},
   "outputs": [],
   "source": [
    "batch, F, FD = 8, 5, 4\n",
    "heads, HFD = 3, 2\n",
    "\n",
    "data = tf.random.normal((batch, F, FD))\n",
    "transform = tf.random.normal((heads,  FD, HFD))\n",
    "\n",
    "result =  head_mul(data, transform)\n",
    "\n",
    "tf.debugging.assert_near(result, head_mul_simple(data, transform))\n"
   ]
  },
  {
   "cell_type": "code",
   "execution_count": 10,
   "metadata": {},
   "outputs": [],
   "source": [
    "batch, F, FD = 8, 5, 4\n",
    "heads, HFD = 3, 2\n",
    "\n",
    "data = tf.random.normal((batch, F, FD))\n",
    "key_transform = tf.random.normal((heads,  FD, HFD))\n",
    "value_transform = tf.random.normal((heads,  FD, HFD))\n",
    "query_transform = tf.random.normal((heads,  FD, HFD))\n",
    "\n",
    "key = head_mul(data, key_transform)\n",
    "value = head_mul(data, value_transform)\n",
    "query = head_mul(data, query_transform)\n",
    "\n"
   ]
  },
  {
   "cell_type": "code",
   "execution_count": 11,
   "metadata": {},
   "outputs": [],
   "source": [
    "def attention(query, key):\n",
    "    '''\n",
    "    query: (batch, heads, F, FD)\n",
    "    key: (batch, heads, F, FD)\n",
    "    result: (batch, heads, F (query), F (key))\n",
    "    '''\n",
    "    assert (tf.rank(query) == 4)\n",
    "    assert (query.shape == key.shape)\n",
    "\n",
    "    return query @ tf.transpose(key, (0, 1, 3, 2))\n",
    "\n",
    "\n",
    "def attention_simple(query, key):\n",
    "    '''\n",
    "    query: (batch, heads, F, FD)\n",
    "    key: (batch, heads, F, FD)\n",
    "    result: (batch, heads, F (query), F (key))\n",
    "    '''\n",
    "    assert (tf.rank(query) == 4)\n",
    "    assert (query.shape == key.shape)\n",
    "\n",
    "    B, H, F, _ = query.shape\n",
    "    result = np.zeros((B, H, F, F))\n",
    "\n",
    "    for b in range(B):\n",
    "        for h in range(H):\n",
    "            for q in range(F):\n",
    "                for k in range(F):\n",
    "                    result[b, h, q, k] =  tf.tensordot(query[b, h, q, :], key[b, h, k, :], 1).numpy()\n",
    "    \n",
    "    return tf.convert_to_tensor(result, dtype=tf.float32)\n",
    "\n"
   ]
  },
  {
   "cell_type": "code",
   "execution_count": 12,
   "metadata": {},
   "outputs": [
    {
     "name": "stdout",
     "output_type": "stream",
     "text": [
      "[[ -1.0842866    0.20300126   0.08299351   0.91089964   2.7099497 ]\n",
      " [ -3.238945    -4.5375476  -12.838415     3.9008617   -4.7610292 ]\n",
      " [ -8.057059    -9.966704   -28.576384     9.400688    -8.54254   ]\n",
      " [  1.7756287    1.2854252    3.9799676   -1.862774    -0.39434886]\n",
      " [ -2.5942352   -3.2000687   -9.17811      3.0247874   -2.7279596 ]]\n",
      "[[ True False False False False]\n",
      " [ True  True False False False]\n",
      " [ True  True  True False False]\n",
      " [ True  True  True  True False]\n",
      " [ True  True  True  True  True]]\n",
      "[[ -1.0842866        -inf        -inf        -inf        -inf]\n",
      " [ -3.238945   -4.5375476        -inf        -inf        -inf]\n",
      " [ -8.057059   -9.966704  -28.576384         -inf        -inf]\n",
      " [  1.7756287   1.2854252   3.9799676  -1.862774         -inf]\n",
      " [ -2.5942352  -3.2000687  -9.17811     3.0247874  -2.7279596]]\n",
      "[[1.0000000e+00 0.0000000e+00 0.0000000e+00 0.0000000e+00 0.0000000e+00]\n",
      " [7.8559971e-01 2.1440029e-01 0.0000000e+00 0.0000000e+00 0.0000000e+00]\n",
      " [8.7097931e-01 1.2902074e-01 1.0680169e-09 0.0000000e+00 0.0000000e+00]\n",
      " [9.3431272e-02 5.7226822e-02 8.4688520e-01 2.4567114e-03 0.0000000e+00]\n",
      " [3.5965834e-03 1.9623649e-03 4.9722084e-06 9.9128962e-01 3.1464023e-03]]\n"
     ]
    }
   ],
   "source": [
    "att = attention(query, key)\n",
    "\n",
    "tf.debugging.assert_near(att, attention_simple(query, key))\n",
    "\n",
    "print(att[0, 0, :, :].numpy())\n",
    "\n",
    "lower_diag_mask = tf.linalg.band_part(tf.ones((F, F), dtype=tf.bool), -1, 0)\n",
    "\n",
    "print(lower_diag_mask.numpy())\n",
    "\n",
    "att = tf.where(lower_diag_mask, att, float('-inf'))\n",
    "\n",
    "print(att[0, 0, :, :].numpy())\n",
    "\n",
    "att = tf.keras.activations.softmax(att, axis = 3)\n",
    "\n",
    "print(att[0, 0, :, :].numpy())"
   ]
  }
 ],
 "metadata": {
  "kernelspec": {
   "display_name": "tf-gpu",
   "language": "python",
   "name": "python3"
  },
  "language_info": {
   "codemirror_mode": {
    "name": "ipython",
    "version": 3
   },
   "file_extension": ".py",
   "mimetype": "text/x-python",
   "name": "python",
   "nbconvert_exporter": "python",
   "pygments_lexer": "ipython3",
   "version": "3.10.8"
  },
  "orig_nbformat": 4
 },
 "nbformat": 4,
 "nbformat_minor": 2
}
