{
 "cells": [
  {
   "cell_type": "code",
   "execution_count": 1,
   "metadata": {},
   "outputs": [],
   "source": [
    "import tensorflow as tf\n",
    "import tensorflow_probability as tfp\n",
    "import matplotlib.pyplot as plt\n",
    "import random\n",
    "from sklearn.decomposition import PCA"
   ]
  },
  {
   "cell_type": "code",
   "execution_count": 2,
   "metadata": {},
   "outputs": [],
   "source": [
    "tf.config.set_visible_devices([], 'GPU')"
   ]
  },
  {
   "cell_type": "code",
   "execution_count": 3,
   "metadata": {},
   "outputs": [
    {
     "data": {
      "text/plain": [
       "['emma', 'olivia', 'ava', 'isabella', 'sophia', 'charlotte', 'mia', 'amelia']"
      ]
     },
     "execution_count": 3,
     "metadata": {},
     "output_type": "execute_result"
    }
   ],
   "source": [
    "words = open('names.txt', 'r').read().splitlines()\n",
    "words[:8]"
   ]
  },
  {
   "cell_type": "code",
   "execution_count": 4,
   "metadata": {},
   "outputs": [
    {
     "data": {
      "text/plain": [
       "32033"
      ]
     },
     "execution_count": 4,
     "metadata": {},
     "output_type": "execute_result"
    }
   ],
   "source": [
    "len(words)"
   ]
  },
  {
   "cell_type": "code",
   "execution_count": 5,
   "metadata": {},
   "outputs": [
    {
     "name": "stdout",
     "output_type": "stream",
     "text": [
      "{0: '.', 1: 'a', 2: 'b', 3: 'c', 4: 'd', 5: 'e', 6: 'f', 7: 'g', 8: 'h', 9: 'i', 10: 'j', 11: 'k', 12: 'l', 13: 'm', 14: 'n', 15: 'o', 16: 'p', 17: 'q', 18: 'r', 19: 's', 20: 't', 21: 'u', 22: 'v', 23: 'w', 24: 'x', 25: 'y', 26: 'z'}\n",
      "27\n"
     ]
    }
   ],
   "source": [
    "chars = sorted(list(set(''.join(words))))\n",
    "\n",
    "stoi = {s: i for i, s in enumerate(('.', *chars))}\n",
    "itos = {i: s for s, i in stoi.items()}\n",
    "vocab_size = len(stoi)\n",
    "\n",
    "print(itos)\n",
    "print(vocab_size)"
   ]
  },
  {
   "cell_type": "code",
   "execution_count": 6,
   "metadata": {},
   "outputs": [],
   "source": [
    "block_size = 3\n",
    "\n",
    "def build_dataset(words, block_size):\n",
    "    X, Y = [], []\n",
    "\n",
    "    for w in words:\n",
    "        #print(w)\n",
    "        context = [stoi['.']] * block_size\n",
    "        for ch in w + '.':\n",
    "            ix = stoi[ch]\n",
    "            X.append(context)\n",
    "            Y.append(ix)\n",
    "            #print(''.join(itos[i] for i in context), '--->', ch)\n",
    "            context = context[1:] + [ix]\n",
    "\n",
    "    return tf.convert_to_tensor(X), tf.convert_to_tensor(Y)\n",
    "\n",
    "\n",
    "n1, n2 = int(len(words)*0.8), int(len(words)*0.9)\n",
    "\n",
    "random.seed(42)\n",
    "random.shuffle(words)\n",
    "\n",
    "X_train, Y_train = build_dataset(words[:n1], block_size)\n",
    "X_dev, Y_dev = build_dataset(words[n1:n2], block_size)\n",
    "X_test, Y_test = build_dataset(words[n2:], block_size)"
   ]
  },
  {
   "cell_type": "code",
   "execution_count": 7,
   "metadata": {},
   "outputs": [
    {
     "name": "stdout",
     "output_type": "stream",
     "text": [
      "11897\n"
     ]
    }
   ],
   "source": [
    "n_embd = 10\n",
    "n_hidden = 200\n",
    "\n",
    "tf.random.set_seed(314159)\n",
    "C = tf.Variable(tf.random.normal((vocab_size, n_embd)), name='C')\n",
    "W1 = tf.Variable(tf.random.normal((n_embd * block_size, n_hidden)), name='W1')\n",
    "b1 = tf.Variable(tf.zeros(n_hidden, dtype=tf.float32), name='b1')\n",
    "W2 = tf.Variable(tf.random.normal((n_hidden, vocab_size)), name='W2')\n",
    "b2 = tf.Variable(tf.zeros(vocab_size, dtype=tf.float32), name='b2')\n",
    "\n",
    "parameters = [C, W1, b1, W2, b2]\n",
    "\n",
    "print(sum(map(tf.size, parameters)).numpy())\n",
    "\n",
    "def eval_logits(X):\n",
    "    emb = tf.gather(C, X)\n",
    "    embcat = tf.reshape(emb, (-1, n_embd * block_size))\n",
    "    hpreact = embcat @ W1 + b1\n",
    "    h = tf.math.tanh(hpreact)\n",
    "    logits = h @ W2 + b2\n",
    "    return logits\n",
    "\n",
    "\n",
    "def eval_loss(X, Y):\n",
    "    logits = eval_logits(X)\n",
    "    loss = tf.math.reduce_mean(tf.keras.metrics.sparse_categorical_crossentropy(Y, logits, from_logits=True))\n",
    "    return loss"
   ]
  },
  {
   "cell_type": "code",
   "execution_count": 8,
   "metadata": {},
   "outputs": [
    {
     "name": "stdout",
     "output_type": "stream",
     "text": [
      "      0/  50000: 20.9145\n",
      "  10000/  50000: 2.8312\n",
      "  20000/  50000: 2.8314\n",
      "  30000/  50000: 2.2068\n",
      "  40000/  50000: 2.1879\n",
      "train = 2.228890895843506, dev = 2.2412242889404297\n"
     ]
    }
   ],
   "source": [
    "max_steps = 50000\n",
    "batch_size = 32\n",
    "lossi = []\n",
    "learning_rate = tf.Variable(1.0, trainable=False)\n",
    "\n",
    "\n",
    "def apply_gradient(param, grad):\n",
    "    if isinstance(grad, tf.IndexedSlices):\n",
    "        sub_value = tf.IndexedSlices(grad.values * learning_rate, grad.indices)\n",
    "        param.scatter_sub(sub_value)\n",
    "    else:\n",
    "        param.assign_sub(learning_rate*grad)\n",
    "\n",
    "    \n",
    "#@tf.function\n",
    "def train_step(X, Y):\n",
    "    with tf.GradientTape() as tape:\n",
    "        loss = eval_loss(X, Y)\n",
    "    \n",
    "    for p, dl_dp in zip(parameters, tape.gradient(loss, parameters)):\n",
    "        apply_gradient(p, dl_dp)\n",
    "        \n",
    "    \n",
    "    return loss\n",
    "\n",
    "\n",
    "for i in range(max_steps):\n",
    "    batch_ix = tf.random.uniform(shape=(batch_size,), minval=0, maxval=X_train.shape[0], dtype=tf.int32)\n",
    "    X_batch = tf.gather(X_train, batch_ix)\n",
    "    Y_batch = tf.gather(Y_train, batch_ix)\n",
    "\n",
    "    learning_rate.assign(0.1 if i < 25000 else 0.01)\n",
    "    loss = train_step(X_batch, Y_batch)\n",
    "\n",
    "    if i % 10000 == 0:\n",
    "        print(f'{i:7d}/{max_steps:7d}: {loss:.4f}')\n",
    "    \n",
    "    lossi.append(loss.numpy())\n",
    "\n",
    "\n",
    "print(f'train = {eval_loss(X_train, Y_train).numpy()}, dev = {eval_loss(X_dev, Y_dev).numpy()}')\n",
    "\n",
    "\n",
    "# GPU tf.function 2m 41.1s\n",
    "#       0/  50000: 20.9121\n",
    "#   10000/  50000: 2.8837\n",
    "#   20000/  50000: 2.7365\n",
    "#   30000/  50000: 2.3199\n",
    "#   40000/  50000: 2.1650\n",
    "# train = 2.235541820526123, dev = 2.2479124069213867\n",
    "\n",
    "# GPU 6m 28.3s\n",
    "#       0/  50000: 20.9121\n",
    "#   10000/  50000: 2.6651\n",
    "#   20000/  50000: 3.0500\n",
    "#   30000/  50000: 2.2324\n",
    "#   40000/  50000: 2.2293\n",
    "# train = 2.230128049850464, dev = 2.247608184814453\n",
    "\n",
    "# CPU tf.function 1m 15.2s\n",
    "#       0/  50000: 20.9145\n",
    "#   10000/  50000: 2.8312\n",
    "#   20000/  50000: 2.8314\n",
    "#   30000/  50000: 2.2068\n",
    "#   40000/  50000: 2.1879\n",
    "# train = 2.228890895843506, dev = 2.2412242889404297\n",
    "\n",
    "# CPU\n"
   ]
  },
  {
   "cell_type": "code",
   "execution_count": 9,
   "metadata": {},
   "outputs": [
    {
     "data": {
      "text/plain": [
       "[<matplotlib.lines.Line2D at 0x2bc24e28880>]"
      ]
     },
     "execution_count": 9,
     "metadata": {},
     "output_type": "execute_result"
    },
    {
     "data": {
      "image/png": "[encoded data removed]",
      "text/plain": [
       "<Figure size 640x480 with 1 Axes>"
      ]
     },
     "metadata": {},
     "output_type": "display_data"
    }
   ],
   "source": [
    "plt.plot(lossi)"
   ]
  },
  {
   "cell_type": "code",
   "execution_count": 10,
   "metadata": {},
   "outputs": [
    {
     "data": {
      "image/png": "[encoded data removed]",
      "text/plain": [
       "<Figure size 800x800 with 1 Axes>"
      ]
     },
     "metadata": {},
     "output_type": "display_data"
    }
   ],
   "source": [
    "emb_2d = PCA(n_components=2).fit_transform(C.numpy())\n",
    "\n",
    "plt.figure(figsize=(8,8))\n",
    "plt.scatter(emb_2d[:, 0], emb_2d[:, 1], s=200)\n",
    "for i in range(C.shape[0]):\n",
    "    plt.text(emb_2d[i,0], emb_2d[i,1], itos[i], ha=\"center\", va=\"center\", color='white')\n",
    "plt.grid('minor')"
   ]
  },
  {
   "cell_type": "code",
   "execution_count": 11,
   "metadata": {},
   "outputs": [
    {
     "name": "stdout",
     "output_type": "stream",
     "text": [
      "pry.\n",
      "elia.\n",
      "ment.\n",
      "kalyn.\n",
      "celmi.\n",
      "hinkl.\n",
      "amelin.\n",
      "silveni.\n",
      "raeyriah.\n",
      "dakafina.\n",
      "rae.\n",
      "frurlao.\n",
      "cherrnyn.\n",
      "beys.\n",
      "kere.\n",
      "majtolyn.\n",
      "edraleida.\n",
      "shellanda.\n",
      "ahjaigan.\n",
      "brishan.\n"
     ]
    }
   ],
   "source": [
    "# batch generate examples\n",
    "\n",
    "gen_batch_size = 10\n",
    "gen_target = 20\n",
    "\n",
    "gen_count = 0\n",
    "start_context = tf.zeros((gen_batch_size, block_size), dtype=tf.int32)\n",
    "context = start_context\n",
    "out = [[] for _ in range(gen_batch_size)]\n",
    "\n",
    "while gen_count < gen_target:\n",
    "    logits = eval_logits(context)\n",
    "    next_one_hot = tfp.distributions.Multinomial(1, logits=logits).sample()\n",
    "    next_ix = tf.argmax(next_one_hot, axis=1, output_type=tf.int32)\n",
    "\n",
    "    reset = []\n",
    "    for con_i, (o, i) in enumerate(zip(out, next_ix)):\n",
    "        o.append(itos[i.numpy()])\n",
    "        if i == 0:\n",
    "            print(''.join(o))\n",
    "            o.clear()\n",
    "            gen_count += 1\n",
    "            reset.append([con_i])\n",
    "\n",
    "\n",
    "    context = tf.concat([context[:, 1:], tf.reshape(next_ix, (-1, 1))], axis=1)\n",
    "\n",
    "    # context might have rows like [5, 10, 0] which will cause the nn to produce\n",
    "    # nonsence, \n",
    "    if len(reset) > 0:\n",
    "        context = tf.tensor_scatter_nd_update(\n",
    "            context,\n",
    "            reset, \n",
    "            start_context[:len(reset), :]\n",
    "        )"
   ]
  }
 ],
 "metadata": {
  "kernelspec": {
   "display_name": "tf-gpu",
   "language": "python",
   "name": "python3"
  },
  "language_info": {
   "codemirror_mode": {
    "name": "ipython",
    "version": 3
   },
   "file_extension": ".py",
   "mimetype": "text/x-python",
   "name": "python",
   "nbconvert_exporter": "python",
   "pygments_lexer": "ipython3",
   "version": "3.10.8"
  },
  "orig_nbformat": 4,
  "vscode": {
   "interpreter": {
    "hash": "e9d1ba5e4994b41d7ada9926998c000b0678c1da28b9ce02a49f5dd66c9f126b"
   }
  }
 },
 "nbformat": 4,
 "nbformat_minor": 2
}
