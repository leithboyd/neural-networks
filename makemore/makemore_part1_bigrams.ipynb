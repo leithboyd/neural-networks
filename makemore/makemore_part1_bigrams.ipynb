{
 "cells": [
  {
   "cell_type": "code",
   "execution_count": 1,
   "metadata": {},
   "outputs": [],
   "source": [
    "import tensorflow as tf\n",
    "import tensorflow_probability as tfp"
   ]
  },
  {
   "cell_type": "code",
   "execution_count": 2,
   "metadata": {},
   "outputs": [],
   "source": [
    "words = open('names.txt', 'r').read().splitlines()"
   ]
  },
  {
   "cell_type": "code",
   "execution_count": 3,
   "metadata": {},
   "outputs": [
    {
     "data": {
      "text/plain": [
       "['emma',\n",
       " 'olivia',\n",
       " 'ava',\n",
       " 'isabella',\n",
       " 'sophia',\n",
       " 'charlotte',\n",
       " 'mia',\n",
       " 'amelia',\n",
       " 'harper',\n",
       " 'evelyn']"
      ]
     },
     "execution_count": 3,
     "metadata": {},
     "output_type": "execute_result"
    }
   ],
   "source": [
    "words[:10]"
   ]
  },
  {
   "cell_type": "code",
   "execution_count": 4,
   "metadata": {},
   "outputs": [
    {
     "name": "stdout",
     "output_type": "stream",
     "text": [
      "min = 2, max = 15\n"
     ]
    }
   ],
   "source": [
    "print(f'min = {min(len(w) for w in words)}, max = {max(len(w) for w in words)}')"
   ]
  },
  {
   "cell_type": "code",
   "execution_count": 5,
   "metadata": {},
   "outputs": [],
   "source": [
    "alphabet = sorted(list(set(''.join(words))))\n",
    "\n",
    "stoi = {s: i for i, s in enumerate(('.', *alphabet))}\n",
    "itos = {i: s for s, i in stoi.items()}\n",
    "num_classes = len(stoi)"
   ]
  },
  {
   "cell_type": "code",
   "execution_count": 6,
   "metadata": {},
   "outputs": [],
   "source": [
    "xs, ys = [], []\n",
    "\n",
    "for w in words:\n",
    "    chars = ['.'] + list(w) + ['.']\n",
    "    for c_curr, c_next in zip(chars, chars[1:]):\n",
    "        #print(c_curr, c_next)\n",
    "        xs.append(stoi[c_curr])\n",
    "        ys.append(stoi[c_next])\n",
    "\n",
    "xs = tf.convert_to_tensor(xs)\n",
    "ys = tf.convert_to_tensor(ys)\n"
   ]
  },
  {
   "cell_type": "code",
   "execution_count": 7,
   "metadata": {},
   "outputs": [],
   "source": [
    "xenc = tf.one_hot(xs, num_classes)\n",
    "yidx = tf.stack([tf.range(ys.shape[0]), ys], axis=1)"
   ]
  },
  {
   "cell_type": "code",
   "execution_count": 8,
   "metadata": {},
   "outputs": [],
   "source": [
    "W = tf.Variable(tf.random.normal((num_classes, num_classes), seed=1), name='W', trainable=True)"
   ]
  },
  {
   "cell_type": "code",
   "execution_count": 9,
   "metadata": {},
   "outputs": [
    {
     "name": "stdout",
     "output_type": "stream",
     "text": [
      "3.930746\n",
      "3.7550907\n",
      "3.6061234\n",
      "3.479786\n",
      "3.3742385\n",
      "3.287305\n",
      "3.2157376\n",
      "3.1558714\n",
      "3.1046226\n",
      "3.059876\n",
      "3.0203128\n",
      "2.9851034\n",
      "2.9536793\n",
      "2.9256084\n",
      "2.9005327\n",
      "2.8781376\n",
      "2.8581357\n",
      "2.8402605\n",
      "2.8242633\n",
      "2.8099148\n",
      "2.7970026\n",
      "2.7853389\n",
      "2.7747555\n",
      "2.765109\n",
      "2.7562754\n",
      "2.7481503\n",
      "2.740647\n",
      "2.7336912\n",
      "2.7272213\n",
      "2.7211847\n",
      "2.7155385\n",
      "2.7102437\n",
      "2.7052684\n",
      "2.700584\n",
      "2.6961665\n",
      "2.6919944\n",
      "2.6880481\n",
      "2.6843116\n",
      "2.6807685\n",
      "2.6774068\n",
      "2.6742122\n",
      "2.6711748\n",
      "2.6682842\n",
      "2.665531\n",
      "2.6629066\n",
      "2.6604028\n",
      "2.658013\n",
      "2.65573\n",
      "2.6535475\n",
      "2.6514597\n",
      "2.6494613\n",
      "2.6475472\n",
      "2.6457129\n",
      "2.6439536\n",
      "2.6422656\n",
      "2.6406448\n",
      "2.6390882\n",
      "2.6375916\n",
      "2.636152\n",
      "2.6347673\n",
      "2.633434\n",
      "2.6321497\n",
      "2.630912\n",
      "2.6297188\n",
      "2.6285677\n",
      "2.6274567\n",
      "2.6263838\n",
      "2.6253479\n",
      "2.6243463\n",
      "2.6233783\n",
      "2.622442\n",
      "2.621536\n",
      "2.6206596\n",
      "2.6198103\n",
      "2.6189883\n",
      "2.6181917\n",
      "2.6174192\n",
      "2.6166708\n",
      "2.6159446\n",
      "2.6152406\n",
      "2.6145573\n",
      "2.6138935\n",
      "2.6132495\n",
      "2.612624\n",
      "2.6120164\n",
      "2.6114256\n",
      "2.6108518\n",
      "2.610294\n",
      "2.6097517\n",
      "2.6092243\n",
      "2.608711\n",
      "2.6082115\n",
      "2.6077259\n",
      "2.6072526\n",
      "2.6067927\n",
      "2.6063442\n",
      "2.6059077\n",
      "2.6054823\n",
      "2.6050684\n",
      "2.6046648\n"
     ]
    }
   ],
   "source": [
    "learning_rate = 20\n",
    "reg_strength = 0.1\n",
    "\n",
    "for _ in range(100):\n",
    "\n",
    "    with tf.GradientTape() as tape:\n",
    "        logits = xenc @ W\n",
    "        counts = tf.math.exp(logits)\n",
    "        probs = counts / tf.math.reduce_sum(counts, axis=1, keepdims=True)\n",
    "        loss = tf.math.reduce_mean(-tf.math.log(tf.gather_nd(probs, yidx))) + reg_strength * tf.math.reduce_mean(W**2)\n",
    "\n",
    "    print(loss.numpy())\n",
    "\n",
    "    dl_dw = tape.gradient(loss, W)\n",
    "    W.assign_sub(learning_rate*dl_dw)\n"
   ]
  },
  {
   "cell_type": "code",
   "execution_count": 10,
   "metadata": {},
   "outputs": [
    {
     "data": {
      "text/plain": [
       "<tf.Tensor: shape=(3,), dtype=float32, numpy=array([0., 1., 0.], dtype=float32)>"
      ]
     },
     "execution_count": 10,
     "metadata": {},
     "output_type": "execute_result"
    }
   ],
   "source": [
    "dist = tfp.distributions.Multinomial(1, probs=[0.2, 0.5, 0.3])\n",
    "dist.sample()"
   ]
  },
  {
   "cell_type": "code",
   "execution_count": 11,
   "metadata": {},
   "outputs": [
    {
     "name": "stdout",
     "output_type": "stream",
     "text": [
      "monnta.\n",
      "eyaya.\n",
      "evkeur.\n",
      "te.\n",
      "ke.\n",
      "re.\n",
      "anrerofrimavy.\n",
      "oned.\n",
      "jbriacxbbqgidyubin.\n",
      "kyramiele.\n"
     ]
    }
   ],
   "source": [
    "# Generate in serial\n",
    "\n",
    "n_gen = 10\n",
    "for _ in range(n_gen):\n",
    "    ienc = tf.one_hot([0], num_classes)\n",
    "    out = []\n",
    "    while True:\n",
    "        logits = ienc @ W\n",
    "        counts = tf.math.exp(logits)\n",
    "        probs = counts / tf.math.reduce_sum(counts, axis=1, keepdims=True)\n",
    "\n",
    "        ienc = tfp.distributions.Multinomial(1, probs=probs).sample()\n",
    "        i = tf.math.argmax(tf.squeeze(ienc))\n",
    "\n",
    "        out.append(itos[i.numpy()])\n",
    "\n",
    "        if i == 0:\n",
    "            break\n",
    "\n",
    "    print(''.join(out))\n"
   ]
  },
  {
   "cell_type": "code",
   "execution_count": 15,
   "metadata": {},
   "outputs": [
    {
     "name": "stdout",
     "output_type": "stream",
     "text": [
      "truan.\n",
      "seame.\n",
      "tzbzjhan.\n",
      "zit.\n",
      "a.\n",
      "awbela.\n",
      "kat.\n",
      "i.\n",
      "cqxz.\n",
      "ceryphiwlinylleum.\n",
      "s.\n",
      "lieyin.\n",
      "erama.\n",
      "sheebekanclelsesadera.\n",
      "kgwh.\n",
      "ay.\n",
      "w.\n",
      "evbety.\n",
      "uta.\n",
      "kqxa.\n"
     ]
    }
   ],
   "source": [
    "# Generate in parallel, has a bias towards generating shorter examples\n",
    "\n",
    "n_parallel = 5\n",
    "n_gen = 20\n",
    "gen_count = 0\n",
    "\n",
    "ienc = tf.one_hot([0]*n_parallel, num_classes)\n",
    "out = [[] for _ in range(n_parallel)]\n",
    "\n",
    "while gen_count < n_gen:\n",
    "    logits = ienc @ W\n",
    "    counts = tf.math.exp(logits)\n",
    "    probs = counts / tf.math.reduce_sum(counts, axis=1, keepdims=True)\n",
    "\n",
    "    ienc = tfp.distributions.Multinomial(1, probs=probs).sample()\n",
    "    iz =  tf.argmax(ienc, axis=1)\n",
    "\n",
    "    for o, i in zip(out, iz):\n",
    "        o.append(itos[i.numpy()])\n",
    "\n",
    "        if i == 0:\n",
    "            print(''.join(o))\n",
    "            o.clear()\n",
    "            gen_count += 1\n",
    "            \n"
   ]
  }
 ],
 "metadata": {
  "kernelspec": {
   "display_name": "tf-gpu",
   "language": "python",
   "name": "python3"
  },
  "language_info": {
   "codemirror_mode": {
    "name": "ipython",
    "version": 3
   },
   "file_extension": ".py",
   "mimetype": "text/x-python",
   "name": "python",
   "nbconvert_exporter": "python",
   "pygments_lexer": "ipython3",
   "version": "3.10.8 | packaged by conda-forge | (main, Nov 24 2022, 14:07:00) [MSC v.1916 64 bit (AMD64)]"
  },
  "orig_nbformat": 4,
  "vscode": {
   "interpreter": {
    "hash": "e9d1ba5e4994b41d7ada9926998c000b0678c1da28b9ce02a49f5dd66c9f126b"
   }
  }
 },
 "nbformat": 4,
 "nbformat_minor": 2
}
