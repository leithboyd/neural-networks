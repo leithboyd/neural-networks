{
 "cells": [
  {
   "cell_type": "code",
   "execution_count": 44,
   "metadata": {},
   "outputs": [],
   "source": [
    "import tensorflow as tf\n",
    "import tensorflow_probability as tfp\n",
    "import matplotlib.pyplot as plt\n",
    "import numpy as np\n",
    "import random\n",
    "from sklearn.decomposition import PCA"
   ]
  },
  {
   "cell_type": "code",
   "execution_count": 2,
   "metadata": {},
   "outputs": [
    {
     "name": "stdout",
     "output_type": "stream",
     "text": [
      "['emma', 'olivia', 'ava', 'isabella', 'sophia', 'charlotte', 'mia', 'amelia', 'harper', 'evelyn']\n"
     ]
    }
   ],
   "source": [
    "words = open('names.txt', 'r').read().splitlines()\n",
    "print(words[:10])"
   ]
  },
  {
   "cell_type": "code",
   "execution_count": 3,
   "metadata": {},
   "outputs": [
    {
     "name": "stdout",
     "output_type": "stream",
     "text": [
      "{0: '.', 1: 'a', 2: 'b', 3: 'c', 4: 'd', 5: 'e', 6: 'f', 7: 'g', 8: 'h', 9: 'i', 10: 'j', 11: 'k', 12: 'l', 13: 'm', 14: 'n', 15: 'o', 16: 'p', 17: 'q', 18: 'r', 19: 's', 20: 't', 21: 'u', 22: 'v', 23: 'w', 24: 'x', 25: 'y', 26: 'z'}\n"
     ]
    }
   ],
   "source": [
    "chars = sorted(list(set(''.join(words))))\n",
    "\n",
    "stoi = {s: i for i, s in enumerate(('.', *chars))}\n",
    "itos = {i: s for s, i in stoi.items()}\n",
    "num_classes = len(stoi)\n",
    "\n",
    "print(itos)"
   ]
  },
  {
   "cell_type": "code",
   "execution_count": 4,
   "metadata": {},
   "outputs": [],
   "source": [
    "block_size = 3\n",
    "\n",
    "def build_dataset(words, block_size):\n",
    "    X, Y = [], []\n",
    "\n",
    "    for w in words:\n",
    "        #print(w)\n",
    "        context = [stoi['.']] * block_size\n",
    "        for ch in w + '.':\n",
    "            ix = stoi[ch]\n",
    "            X.append(context)\n",
    "            Y.append(ix)\n",
    "            #print(''.join(itos[i] for i in context), '--->', ch)\n",
    "            context = context[1:] + [ix]\n",
    "\n",
    "    return tf.convert_to_tensor(X), tf.convert_to_tensor(Y)\n",
    "\n",
    "\n",
    "n1, n2 = int(len(words)*0.8), int(len(words)*0.9)\n",
    "\n",
    "random.shuffle(words)\n",
    "\n",
    "X_train, Y_train = build_dataset(words[:n1], block_size)\n",
    "X_dev, Y_dev = build_dataset(words[n1:n2], block_size)\n",
    "X_test, Y_test = build_dataset(words[n2:], block_size)"
   ]
  },
  {
   "cell_type": "code",
   "execution_count": 5,
   "metadata": {},
   "outputs": [
    {
     "data": {
      "text/plain": [
       "(TensorShape([182521]), TensorShape([22779]), TensorShape([22846]))"
      ]
     },
     "execution_count": 5,
     "metadata": {},
     "output_type": "execute_result"
    }
   ],
   "source": [
    "Y_train.shape, Y_dev.shape, Y_test.shape"
   ]
  },
  {
   "cell_type": "code",
   "execution_count": 6,
   "metadata": {},
   "outputs": [],
   "source": [
    "embedding_size = 10\n",
    "hidden_layer_size = 300\n",
    "\n",
    "C = tf.Variable(tf.random.normal((num_classes, embedding_size)), name='C')\n",
    "W1 = tf.Variable(tf.random.normal((embedding_size * block_size, hidden_layer_size)), name='W1')\n",
    "b1 = tf.Variable(tf.zeros(hidden_layer_size, dtype=tf.float32), name='b1')\n",
    "W2 = tf.Variable(tf.random.normal((hidden_layer_size, num_classes)), name='W2')\n",
    "b2 = tf.Variable(tf.zeros(num_classes, dtype=tf.float32), name='b2')\n",
    "\n",
    "parameters = [C, W1, b1, W2, b2]\n",
    "\n",
    "def eval_logits(X):\n",
    "    emb = tf.gather(C, X)\n",
    "    h = tf.math.tanh(tf.reshape(emb, (-1, embedding_size * block_size)) @ W1 + b1)\n",
    "    return h @ W2 + b2\n",
    "\n",
    "def eval_loss(X, Y):\n",
    "    logits = eval_logits(X)\n",
    "    loss = tf.math.reduce_mean(tf.keras.metrics.sparse_categorical_crossentropy(Y, logits, from_logits=True))\n",
    "    return loss\n"
   ]
  },
  {
   "cell_type": "code",
   "execution_count": 7,
   "metadata": {},
   "outputs": [],
   "source": [
    "# GPU is using FP16 for some reason. \n",
    "# with tf.device('/CPU:0'):\n",
    "#     print(tf.one_hot([5], num_classes) @ C)\n",
    "# print(tf.one_hot([5], num_classes) @ C)\n",
    "# print(tf.cast(tf.cast(C[5], dtype=tf.float16), dtype=tf.float32))"
   ]
  },
  {
   "cell_type": "code",
   "execution_count": 8,
   "metadata": {},
   "outputs": [],
   "source": [
    "step_loss = []\n"
   ]
  },
  {
   "cell_type": "code",
   "execution_count": 29,
   "metadata": {},
   "outputs": [
    {
     "name": "stdout",
     "output_type": "stream",
     "text": [
      "batch = 2.3355822563171387, train = 2.2505645751953125, dev = 2.269709825515747\n"
     ]
    }
   ],
   "source": [
    "learning_rate = 0.1\n",
    "for _ in range(10000):\n",
    "    \n",
    "    batch_ix = tf.random.uniform(shape=(64,), minval=0, maxval=X_train.shape[0], dtype=tf.int32)\n",
    "    X_batch = tf.gather(X_train, batch_ix)\n",
    "    Y_batch = tf.gather(Y_train, batch_ix)\n",
    "\n",
    "    with tf.GradientTape() as tape:\n",
    "        # emb = tf.gather(C, X_batch)\n",
    "        # h = tf.math.tanh(tf.reshape(emb, (-1, embedding_size * block_size)) @ W1 + b1)\n",
    "        # logits = h @ W2 + b2\n",
    "        # counts = tf.math.exp(logits)\n",
    "        # prob = counts / tf.reduce_sum(counts, axis=1, keepdims=True)\n",
    "        # prob_indexer = tf.stack([tf.range(Y.shape[0]), Y], axis=1)\n",
    "        # loss = -tf.math.reduce_mean(tf.math.log(tf.gather_nd(prob, prob_indexer)))\n",
    "        # loss = tf.math.reduce_mean(tf.keras.metrics.sparse_categorical_crossentropy(Y_batch, logits, from_logits=True))\n",
    "        loss = eval_loss(X_batch, Y_batch)\n",
    "        #print(loss.numpy())\n",
    "\n",
    "    for p, dl_dp in zip(parameters, tape.gradient(loss, parameters)):\n",
    "        # tape.gradient(loss, C) returns IndexedSlices with:\n",
    "        #   indicies = rows indicies of the embedding lookup table C\n",
    "        #   values = tensor of gradients for rows in C for  indicies\n",
    "        # Indicies can contain duplicates so we need to sum the gradients for each index together.\n",
    "        # This can be done with tf.convert_to_tensor (see example below)\n",
    "        p.assign_sub(learning_rate*tf.convert_to_tensor(dl_dp))\n",
    "\n",
    "    step_loss.append(loss)\n",
    "\n",
    "\n",
    "print(f'batch = {loss.numpy()}, train = {eval_loss(X_train, Y_train).numpy()}, dev = {eval_loss(X_dev, Y_dev).numpy()}')"
   ]
  },
  {
   "cell_type": "code",
   "execution_count": 30,
   "metadata": {},
   "outputs": [
    {
     "data": {
      "text/plain": [
       "[<matplotlib.lines.Line2D at 0x19ccad49a50>]"
      ]
     },
     "execution_count": 30,
     "metadata": {},
     "output_type": "execute_result"
    },
    {
     "data": {
      "image/png": "[encoded data removed]",
      "text/plain": [
       "<Figure size 640x480 with 1 Axes>"
      ]
     },
     "metadata": {},
     "output_type": "display_data"
    }
   ],
   "source": [
    "plt.plot(step_loss)"
   ]
  },
  {
   "cell_type": "code",
   "execution_count": 31,
   "metadata": {},
   "outputs": [
    {
     "data": {
      "image/png": "[encoded data removed]",
      "text/plain": [
       "<Figure size 800x800 with 1 Axes>"
      ]
     },
     "metadata": {},
     "output_type": "display_data"
    }
   ],
   "source": [
    "emb_2d = PCA(n_components=2).fit_transform(C.numpy())\n",
    "\n",
    "plt.figure(figsize=(8,8))\n",
    "plt.scatter(emb_2d[:, 0], emb_2d[:, 1], s=200)\n",
    "for i in range(C.shape[0]):\n",
    "    plt.text(emb_2d[i,0], emb_2d[i,1], itos[i], ha=\"center\", va=\"center\", color='white')\n",
    "plt.grid('minor')"
   ]
  },
  {
   "cell_type": "code",
   "execution_count": 109,
   "metadata": {},
   "outputs": [
    {
     "name": "stdout",
     "output_type": "stream",
     "text": [
      "zan.\n",
      "zen.\n",
      "lina.\n",
      "brey.\n",
      "daler.\n",
      "rocel.\n",
      "damir.\n",
      "afrida.\n",
      "aya.\n",
      "gean.\n",
      "benry.\n",
      "abd.\n",
      "cla.\n",
      "sourazariah.\n",
      "aroiyah.\n",
      "caiveshan.\n",
      "yokoriyah.\n",
      "laymn.\n",
      "kupabrigbesreen.\n",
      "fusny.\n",
      "toriye.\n"
     ]
    }
   ],
   "source": [
    "# batch generate examples\n",
    "\n",
    "gen_batch_size = 10\n",
    "gen_target = 20\n",
    "\n",
    "gen_count = 0\n",
    "start_context = tf.zeros((gen_batch_size, block_size), dtype=tf.int32)\n",
    "context = start_context\n",
    "out = [[] for _ in range(gen_batch_size)]\n",
    "\n",
    "while gen_count < gen_target:\n",
    "    logits = eval_logits(context)\n",
    "    next_one_hot = tfp.distributions.Multinomial(1, logits=logits).sample()\n",
    "    next_ix = tf.argmax(next_one_hot, axis=1, output_type=tf.int32)\n",
    "\n",
    "    reset = []\n",
    "    for con_i, (o, i) in enumerate(zip(out, next_ix)):\n",
    "        o.append(itos[i.numpy()])\n",
    "        if i == 0:\n",
    "            print(''.join(o))\n",
    "            o.clear()\n",
    "            gen_count += 1\n",
    "            reset.append([con_i])\n",
    "\n",
    "\n",
    "    context = tf.concat([context[:, 1:], tf.reshape(next_ix, (-1, 1))], axis=1)\n",
    "\n",
    "    # context might have rows like [5, 10, 0] which will cause the nn to produce\n",
    "    # nonsence, \n",
    "    if len(reset) > 0:\n",
    "        context = tf.tensor_scatter_nd_update(\n",
    "            context,\n",
    "            reset, \n",
    "            start_context[:len(reset), :]\n",
    "        )\n",
    "\n"
   ]
  },
  {
   "cell_type": "code",
   "execution_count": 33,
   "metadata": {},
   "outputs": [],
   "source": [
    "# convert_to_tensor(IndexedSlices) example\n",
    "\n",
    "# sparse_tensor = tf.IndexedSlices(\n",
    "#     values=[1, 1, 1, 1, 1, 1 ,1], \n",
    "#     indices=[0, 1, 1, 1, 1, 1, 4], \n",
    "#     dense_shape=(10,)\n",
    "# )\n",
    "\n",
    "# print(tf.convert_to_tensor(sparse_tensor))"
   ]
  }
 ],
 "metadata": {
  "kernelspec": {
   "display_name": "tf-gpu",
   "language": "python",
   "name": "python3"
  },
  "language_info": {
   "codemirror_mode": {
    "name": "ipython",
    "version": 3
   },
   "file_extension": ".py",
   "mimetype": "text/x-python",
   "name": "python",
   "nbconvert_exporter": "python",
   "pygments_lexer": "ipython3",
   "version": "3.10.8 | packaged by conda-forge | (main, Nov 24 2022, 14:07:00) [MSC v.1916 64 bit (AMD64)]"
  },
  "orig_nbformat": 4,
  "vscode": {
   "interpreter": {
    "hash": "e9d1ba5e4994b41d7ada9926998c000b0678c1da28b9ce02a49f5dd66c9f126b"
   }
  }
 },
 "nbformat": 4,
 "nbformat_minor": 2
}
