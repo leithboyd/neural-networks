{
 "cells": [
  {
   "cell_type": "code",
   "execution_count": 26,
   "metadata": {},
   "outputs": [],
   "source": [
    "import tensorflow as tf\n",
    "import tensorflow_probability as tfp\n",
    "import numpy as np\n",
    "import matplotlib.pyplot as plt\n",
    "import random\n",
    "from sklearn.decomposition import PCA"
   ]
  },
  {
   "cell_type": "code",
   "execution_count": 27,
   "metadata": {},
   "outputs": [],
   "source": [
    "#tf.config.set_visible_devices([], 'GPU')"
   ]
  },
  {
   "cell_type": "code",
   "execution_count": 28,
   "metadata": {},
   "outputs": [
    {
     "data": {
      "text/plain": [
       "['emma', 'olivia', 'ava', 'isabella', 'sophia', 'charlotte', 'mia', 'amelia']"
      ]
     },
     "execution_count": 28,
     "metadata": {},
     "output_type": "execute_result"
    }
   ],
   "source": [
    "words = open('names.txt', 'r').read().splitlines()\n",
    "words[:8]"
   ]
  },
  {
   "cell_type": "code",
   "execution_count": 29,
   "metadata": {},
   "outputs": [
    {
     "data": {
      "text/plain": [
       "32033"
      ]
     },
     "execution_count": 29,
     "metadata": {},
     "output_type": "execute_result"
    }
   ],
   "source": [
    "len(words)"
   ]
  },
  {
   "cell_type": "code",
   "execution_count": 30,
   "metadata": {},
   "outputs": [
    {
     "name": "stdout",
     "output_type": "stream",
     "text": [
      "{0: '.', 1: 'a', 2: 'b', 3: 'c', 4: 'd', 5: 'e', 6: 'f', 7: 'g', 8: 'h', 9: 'i', 10: 'j', 11: 'k', 12: 'l', 13: 'm', 14: 'n', 15: 'o', 16: 'p', 17: 'q', 18: 'r', 19: 's', 20: 't', 21: 'u', 22: 'v', 23: 'w', 24: 'x', 25: 'y', 26: 'z'}\n",
      "27\n"
     ]
    }
   ],
   "source": [
    "chars = sorted(list(set(''.join(words))))\n",
    "\n",
    "stoi = {s: i for i, s in enumerate(('.', *chars))}\n",
    "itos = {i: s for s, i in stoi.items()}\n",
    "vocab_size = len(stoi)\n",
    "\n",
    "print(itos)\n",
    "print(vocab_size)"
   ]
  },
  {
   "cell_type": "code",
   "execution_count": 31,
   "metadata": {},
   "outputs": [],
   "source": [
    "block_size = 3\n",
    "\n",
    "def build_dataset(words, block_size):\n",
    "    X, Y = [], []\n",
    "\n",
    "    for w in words:\n",
    "        #print(w)\n",
    "        context = [stoi['.']] * block_size\n",
    "        for ch in w + '.':\n",
    "            ix = stoi[ch]\n",
    "            X.append(context)\n",
    "            Y.append(ix)\n",
    "            #print(''.join(itos[i] for i in context), '--->', ch)\n",
    "            context = context[1:] + [ix]\n",
    "\n",
    "    return tf.convert_to_tensor(X), tf.convert_to_tensor(Y)\n",
    "\n",
    "\n",
    "n1, n2 = int(len(words)*0.8), int(len(words)*0.9)\n",
    "\n",
    "random.seed(42)\n",
    "random.shuffle(words)\n",
    "\n",
    "X_train, Y_train = build_dataset(words[:n1], block_size)\n",
    "X_dev, Y_dev = build_dataset(words[n1:n2], block_size)\n",
    "X_test, Y_test = build_dataset(words[n2:], block_size)"
   ]
  },
  {
   "cell_type": "code",
   "execution_count": 32,
   "metadata": {},
   "outputs": [
    {
     "name": "stdout",
     "output_type": "stream",
     "text": [
      "params: 12097\n",
      "['C:0', 'W1:0', 'bn_gain:0', 'bn_bias:0', 'W2:0', 'b2:0']\n"
     ]
    }
   ],
   "source": [
    "n_embd = 10\n",
    "n_hidden = 200\n",
    "\n",
    "tf.random.set_seed(314159)\n",
    "C = tf.Variable(tf.random.normal((vocab_size, n_embd)), name='C')\n",
    "W1 = tf.Variable(tf.random.normal((n_embd * block_size, n_hidden)) * (5/3) / ((n_embd * block_size)**0.5), name='W1')\n",
    "W2 = tf.Variable(tf.random.normal((n_hidden, vocab_size)) * 0.01, name='W2')\n",
    "b2 = tf.Variable(tf.zeros(vocab_size, dtype=tf.float32), name='b2')\n",
    "\n",
    "bn_gain = tf.Variable(tf.ones((1, n_hidden), dtype=tf.float32), name='bn_gain')\n",
    "bn_bias = tf.Variable(tf.zeros((1, n_hidden), dtype=tf.float32), name='bn_bias')\n",
    "bn_mean_running = tf.Variable(tf.zeros((1, n_hidden), dtype=tf.float32), trainable=False, name='bn_mean')\n",
    "bn_std_running = tf.Variable(tf.ones((1, n_hidden), dtype=tf.float32), trainable=False, name='bn_std')\n",
    "\n",
    "parameters = {p.name: p for p in [C, W1, bn_gain, bn_bias, W2, b2]}\n",
    "\n",
    "print(f'params: {sum(map(tf.size, parameters.values())).numpy()}')\n",
    "\n",
    "print(list(parameters.keys()))\n",
    "\n",
    "def eval(X, train=False):\n",
    "    emb = tf.gather(C, X)\n",
    "    embcat = tf.reshape(emb, (-1, n_embd * block_size))\n",
    "    hpreact = embcat @ W1\n",
    "\n",
    "    if train:\n",
    "        bn_mean = tf.math.reduce_mean(hpreact, 0, keepdims=True)\n",
    "        bn_std = tf.math.reduce_std(hpreact, 0, keepdims=True)\n",
    "        bn_mean_running.assign(bn_mean_running*0.999 + bn_mean*0.001)\n",
    "        bn_std_running.assign(bn_std_running*0.999 + bn_std*0.001)\n",
    "    else:\n",
    "        bn_mean = bn_mean_running\n",
    "        bn_std = bn_std_running\n",
    "\n",
    "    hpreact = bn_gain*(hpreact - bn_mean)/bn_std + bn_bias\n",
    "    h = tf.math.tanh(hpreact)\n",
    "    logits = (h @ W2 + b2)\n",
    "    return {\n",
    "        'logits': logits,\n",
    "        'h': h,\n",
    "        'hpreact': hpreact\n",
    "    }\n",
    "\n",
    "    \n",
    "@tf.function\n",
    "def eval_loss(X, Y, train=False):\n",
    "    output = eval(X, train)\n",
    "    loss = tf.math.reduce_mean(tf.keras.metrics.sparse_categorical_crossentropy(Y, output['logits'], from_logits=True))\n",
    "    return loss, output"
   ]
  },
  {
   "cell_type": "code",
   "execution_count": 33,
   "metadata": {},
   "outputs": [],
   "source": [
    "lossi = []"
   ]
  },
  {
   "cell_type": "code",
   "execution_count": 34,
   "metadata": {},
   "outputs": [
    {
     "name": "stdout",
     "output_type": "stream",
     "text": [
      "      0/ 100000: 3.2741\n",
      "  10000/ 100000: 2.2696\n",
      "  20000/ 100000: 2.2096\n",
      "  30000/ 100000: 2.1832\n",
      "  40000/ 100000: 2.1741\n",
      "  50000/ 100000: 2.1708\n",
      "  60000/ 100000: 2.1029\n",
      "  70000/ 100000: 2.1001\n",
      "  80000/ 100000: 2.0971\n",
      "  90000/ 100000: 2.0951\n",
      "train = 2.094252109527588, dev = 2.128375291824341\n"
     ]
    }
   ],
   "source": [
    "max_steps = 100000\n",
    "batch_size = 32\n",
    "learning_rate = tf.Variable(0.01, trainable=False)\n",
    "\n",
    "\n",
    "def apply_gradient(param, grad):\n",
    "    if isinstance(grad, tf.IndexedSlices):\n",
    "        sub_value = tf.IndexedSlices(grad.values * learning_rate, grad.indices)\n",
    "        param.scatter_sub(sub_value)\n",
    "    else:\n",
    "        param.assign_sub(learning_rate*grad)\n",
    "\n",
    " \n",
    "@tf.function\n",
    "def train_step(X, Y):\n",
    "    with tf.GradientTape() as tape:\n",
    "        loss, output = eval_loss(X, Y, train=True)\n",
    "    \n",
    "    grads = tape.gradient(loss, parameters)\n",
    "    for p, dl_dp in zip(parameters.values(), grads.values()):\n",
    "        apply_gradient(p, dl_dp)\n",
    "     \n",
    "    return loss, output, grads\n",
    "\n",
    "\n",
    "for i in range(max_steps):\n",
    "    batch_ix = tf.random.uniform(shape=(batch_size,), minval=0, maxval=X_train.shape[0], dtype=tf.int32)\n",
    "    X_batch = tf.gather(X_train, batch_ix)\n",
    "    Y_batch = tf.gather(Y_train, batch_ix)\n",
    "\n",
    "    learning_rate.assign(0.1 if i < 50000 else 0.01)\n",
    "    loss, output, grads = train_step(X_batch, Y_batch)\n",
    "    \n",
    "    lossi.append(np.log(loss))\n",
    "\n",
    "    if i % 10000 == 0:\n",
    "        train_loss = eval_loss(X_train, Y_train)[0].numpy()\n",
    "        print(f'{i:7d}/{max_steps:7d}: {train_loss:.4f}')\n",
    "\n",
    "    #break\n",
    "\n",
    "\n",
    "print(f'train = {eval_loss(X_train, Y_train)[0].numpy()}, dev = {eval_loss(X_dev, Y_dev)[0].numpy()}')\n",
    "\n"
   ]
  },
  {
   "cell_type": "code",
   "execution_count": 35,
   "metadata": {},
   "outputs": [
    {
     "name": "stdout",
     "output_type": "stream",
     "text": [
      "train = 2.094252109527588, dev = 2.128375291824341\n"
     ]
    }
   ],
   "source": [
    "# 0: train = 2.1723361015319824, dev = 2.1950716972351074\n",
    "# 1: train = 2.0964858531951904, dev = 2.1465535163879395\n",
    "# 2: train = 2.064552068710327,  dev = 2.1139414310455322\n",
    "# 3: train = 2.094252109527588,  dev = 2.128375291824341\n",
    "# 3: train = 2.0673418045043945, dev = 2.109072685241699\n",
    "print(f'train = {eval_loss(X_train, Y_train)[0].numpy()}, dev = {eval_loss(X_dev, Y_dev)[0].numpy()}')"
   ]
  },
  {
   "cell_type": "code",
   "execution_count": 36,
   "metadata": {},
   "outputs": [
    {
     "data": {
      "text/plain": [
       "<matplotlib.image.AxesImage at 0x23fccb6f670>"
      ]
     },
     "execution_count": 36,
     "metadata": {},
     "output_type": "execute_result"
    },
    {
     "data": {
      "image/png": "[encoded data removed]",
      "text/plain": [
       "<Figure size 2000x1000 with 1 Axes>"
      ]
     },
     "metadata": {},
     "output_type": "display_data"
    }
   ],
   "source": [
    "plt.figure(figsize=(20, 10))\n",
    "plt.imshow(np.abs(output['h'].numpy()) > 0.99,  cmap=plt.cm.gray)"
   ]
  },
  {
   "cell_type": "code",
   "execution_count": 37,
   "metadata": {},
   "outputs": [
    {
     "data": {
      "text/plain": [
       "(TensorShape([32, 200]), TensorShape([1, 200]))"
      ]
     },
     "execution_count": 37,
     "metadata": {},
     "output_type": "execute_result"
    }
   ],
   "source": [
    "output['hpreact'].shape, tf.math.reduce_mean(output['hpreact'], 0, keepdims=True).shape"
   ]
  },
  {
   "cell_type": "code",
   "execution_count": 38,
   "metadata": {},
   "outputs": [
    {
     "data": {
      "image/png": "[encoded data removed]",
      "text/plain": [
       "<Figure size 640x480 with 1 Axes>"
      ]
     },
     "metadata": {},
     "output_type": "display_data"
    }
   ],
   "source": [
    "plt.hist(tf.reshape(output['h'], (-1,)).numpy(), bins=50);\n"
   ]
  },
  {
   "cell_type": "code",
   "execution_count": 39,
   "metadata": {},
   "outputs": [
    {
     "data": {
      "image/png": "[encoded data removed]",
      "text/plain": [
       "<Figure size 640x480 with 1 Axes>"
      ]
     },
     "metadata": {},
     "output_type": "display_data"
    }
   ],
   "source": [
    "plt.hist(tf.reshape(output['logits'], (-1,)).numpy(), bins=50);"
   ]
  },
  {
   "cell_type": "code",
   "execution_count": 40,
   "metadata": {},
   "outputs": [
    {
     "data": {
      "image/png": "[encoded data removed]",
      "text/plain": [
       "<Figure size 800x800 with 1 Axes>"
      ]
     },
     "metadata": {},
     "output_type": "display_data"
    }
   ],
   "source": [
    "emb_2d = PCA(n_components=2).fit_transform(C.numpy())\n",
    "\n",
    "plt.figure(figsize=(8,8))\n",
    "plt.scatter(emb_2d[:, 0], emb_2d[:, 1], s=200)\n",
    "for i in range(C.shape[0]):\n",
    "    plt.text(emb_2d[i,0], emb_2d[i,1], itos[i], ha=\"center\", va=\"center\", color='white')\n",
    "plt.grid('minor')"
   ]
  },
  {
   "cell_type": "code",
   "execution_count": 41,
   "metadata": {},
   "outputs": [
    {
     "name": "stdout",
     "output_type": "stream",
     "text": [
      "dem.\n",
      "gen.\n",
      "sha.\n",
      "ura.\n",
      "lune.\n",
      "dany.\n",
      "hephan.\n",
      "chylia.\n",
      "lin.\n",
      "akfonta.\n",
      "maddriel.\n",
      "anna.\n",
      "aadie.\n",
      "gan.\n",
      "amiah.\n",
      "frani.\n",
      "miko.\n",
      "melam.\n",
      "dadorvmnne.\n",
      "den.\n",
      "joyalonan.\n",
      "luylah.\n"
     ]
    }
   ],
   "source": [
    "# batch generate examples\n",
    "\n",
    "gen_batch_size = 10\n",
    "gen_target = 20\n",
    "\n",
    "gen_count = 0\n",
    "start_context = tf.zeros((gen_batch_size, block_size), dtype=tf.int32)\n",
    "context = start_context\n",
    "out = [[] for _ in range(gen_batch_size)]\n",
    "\n",
    "while gen_count < gen_target:\n",
    "    output = eval(context)\n",
    "    next_one_hot = tfp.distributions.Multinomial(1, logits=output['logits']).sample()\n",
    "    next_ix = tf.argmax(next_one_hot, axis=1, output_type=tf.int32)\n",
    "\n",
    "    reset = []\n",
    "    for con_i, (o, i) in enumerate(zip(out, next_ix)):\n",
    "        o.append(itos[i.numpy()])\n",
    "        if i == 0:\n",
    "            print(''.join(o))\n",
    "            o.clear()\n",
    "            gen_count += 1\n",
    "            reset.append([con_i])\n",
    "\n",
    "\n",
    "    context = tf.concat([context[:, 1:], tf.reshape(next_ix, (-1, 1))], axis=1)\n",
    "\n",
    "    # context might have rows like [5, 10, 0] which will cause the nn to produce\n",
    "    # nonsence, \n",
    "    if len(reset) > 0:\n",
    "        context = tf.tensor_scatter_nd_update(\n",
    "            context,\n",
    "            reset, \n",
    "            start_context[:len(reset), :]\n",
    "        )"
   ]
  }
 ],
 "metadata": {
  "kernelspec": {
   "display_name": "tf-gpu",
   "language": "python",
   "name": "python3"
  },
  "language_info": {
   "codemirror_mode": {
    "name": "ipython",
    "version": 3
   },
   "file_extension": ".py",
   "mimetype": "text/x-python",
   "name": "python",
   "nbconvert_exporter": "python",
   "pygments_lexer": "ipython3",
   "version": "3.10.8"
  },
  "orig_nbformat": 4,
  "vscode": {
   "interpreter": {
    "hash": "e9d1ba5e4994b41d7ada9926998c000b0678c1da28b9ce02a49f5dd66c9f126b"
   }
  }
 },
 "nbformat": 4,
 "nbformat_minor": 2
}
